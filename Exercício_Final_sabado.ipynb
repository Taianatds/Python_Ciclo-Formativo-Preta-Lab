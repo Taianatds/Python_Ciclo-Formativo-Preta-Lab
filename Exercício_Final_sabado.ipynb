{
  "nbformat": 4,
  "nbformat_minor": 0,
  "metadata": {
    "colab": {
      "provenance": [],
      "include_colab_link": true
    },
    "kernelspec": {
      "name": "python3",
      "display_name": "Python 3"
    },
    "language_info": {
      "name": "python"
    }
  },
  "cells": [
    {
      "cell_type": "markdown",
      "metadata": {
        "id": "view-in-github",
        "colab_type": "text"
      },
      "source": [
        "<a href=\"https://colab.research.google.com/github/Taianatds/Python_Ciclo-Formativo-Preta-Lab/blob/main/Exerc%C3%ADcio_Final_sabado.ipynb\" target=\"_parent\"><img src=\"https://colab.research.google.com/assets/colab-badge.svg\" alt=\"Open In Colab\"/></a>"
      ]
    },
    {
      "cell_type": "markdown",
      "source": [
        "# Contagem de Medalhas\n",
        "\n",
        "Crie um programa que receba o número de medalhas de ouro, prata e bronze de um país nas Olimpíadas e calcule o total de medalhas.\n",
        "Quando escrever 'sair', o programa deverá encerrar e mostrar na tela o ranking de medalhas no formato:"
      ],
      "metadata": {
        "id": "RQN1e5FZY6SZ"
      }
    },
    {
      "cell_type": "code",
      "source": [
        "#Ranking de medalhas:\n",
        "#Brasil: 7 medalhas\n",
        "#França: 6 medalhas\n",
        "#Argentina: 3 medalhas"
      ],
      "metadata": {
        "id": "gCq_KLHzZSzb"
      },
      "execution_count": 41,
      "outputs": []
    },
    {
      "cell_type": "code",
      "execution_count": null,
      "metadata": {
        "id": "AJJhjxiPTd5s"
      },
      "outputs": [],
      "source": [
        "medalhas = {\n",
        "    'Brasil': {'ouro': 4, 'prata': 2, 'bronze': 1},\n",
        "    'França': {'ouro': 2, 'prata': 1, 'bronze': 3},\n",
        "    'Argentina': {'ouro': 1, 'prata': 1, 'bronze': 1}\n",
        "}\n",
        "\n",
        "\n",
        "def calcular_total_medalhas(medalhas):\n",
        "    total = {}\n",
        "    for pais, medalhas_tipo in medalhas.items():\n",
        "        total_medalhas = medalhas_tipo['ouro'] + medalhas_tipo['prata'] + medalhas_tipo['bronze']\n",
        "        total[pais] = total_medalhas\n",
        "    return total\n",
        "\n",
        "def exibir_ranking(medalhas):\n",
        "\n",
        "    total_medalhas = calcular_total_medalhas(medalhas)\n",
        "\n",
        "    ranking = sorted(medalhas.items(), key=lambda x: (x[1]['ouro'], x[1]['prata'], x[1]['bronze']), reverse=True)\n",
        "\n",
        "\n",
        "    print(\"\\nRanking de Medalhas:\")\n",
        "    for i, (pais, medalhas_tipo) in enumerate(ranking, start=1):\n",
        "        print(f\"{i}. {pais} - Ouro: {medalhas_tipo['ouro']}, Prata: {medalhas_tipo['prata']}, Bronze: {medalhas_tipo['bronze']}, Total: {total_medalhas[pais]}\")\n",
        "    print(\"-\" * 20)\n",
        "\n",
        "while True:\n",
        "    pais = input(\"Digite o nome do país (ou 'sair' para terminar): \").strip()\n",
        "    if pais.lower() == 'sair':\n",
        "        break\n",
        "\n",
        "\n",
        "    prata = int(input(f\"Digite o pais para {medalhas}: \"))\n",
        "\n",
        "\n",
        "    medalhas[brasil] = {'3': ouro, '2': prata, '1': bronze}\n",
        "\n",
        "exibir_ranking(medalhas)"
      ]
    }
  ]
}