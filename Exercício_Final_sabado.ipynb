{
  "nbformat": 4,
  "nbformat_minor": 0,
  "metadata": {
    "colab": {
      "provenance": [],
      "include_colab_link": true
    },
    "kernelspec": {
      "name": "python3",
      "display_name": "Python 3"
    },
    "language_info": {
      "name": "python"
    }
  },
  "cells": [
    {
      "cell_type": "markdown",
      "metadata": {
        "id": "view-in-github",
        "colab_type": "text"
      },
      "source": [
        "<a href=\"https://colab.research.google.com/github/Taianatds/Python_Ciclo-Formativo-Preta-Lab/blob/main/Exerc%C3%ADcio_Final_sabado.ipynb\" target=\"_parent\"><img src=\"https://colab.research.google.com/assets/colab-badge.svg\" alt=\"Open In Colab\"/></a>"
      ]
    },
    {
      "cell_type": "markdown",
      "source": [
        "# Contagem de Medalhas\n",
        "\n",
        "Crie um programa que receba o número de medalhas de ouro, prata e bronze de um país nas Olimpíadas e calcule o total de medalhas.\n",
        "Quando escrever 'sair', o programa deverá encerrar e mostrar na tela o ranking de medalhas no formato:"
      ],
      "metadata": {
        "id": "RQN1e5FZY6SZ"
      }
    },
    {
      "cell_type": "code",
      "source": [
        "#Ranking de medalhas:\n",
        "#Brasil: 7 medalhas\n",
        "#França: 6 medalhas\n",
        "#Argentina: 3 medalhas"
      ],
      "metadata": {
        "id": "gCq_KLHzZSzb"
      },
      "execution_count": 41,
      "outputs": []
    },
    {
      "cell_type": "code",
      "execution_count": 43,
      "metadata": {
        "id": "AJJhjxiPTd5s",
        "colab": {
          "base_uri": "https://localhost:8080/",
          "height": 245
        },
        "outputId": "1ae8f2d6-f565-4c7d-e3d5-56acfba72341"
      },
      "outputs": [
        {
          "name": "stdout",
          "output_type": "stream",
          "text": [
            "Digite o nome do país (ou 'sair' para terminar): argentina\n",
            "Digite o pais para {'Brasil': {'ouro': 4, 'prata': 2, 'bronze': 1}, 'França': {'ouro': 2, 'prata': 1, 'bronze': 3}, 'Argentina': {'ouro': 1, 'prata': 1, 'bronze': 1}}: sair\n"
          ]
        },
        {
          "output_type": "error",
          "ename": "ValueError",
          "evalue": "invalid literal for int() with base 10: 'sair'",
          "traceback": [
            "\u001b[0;31m---------------------------------------------------------------------------\u001b[0m",
            "\u001b[0;31mValueError\u001b[0m                                Traceback (most recent call last)",
            "\u001b[0;32m<ipython-input-43-81f6454e0219>\u001b[0m in \u001b[0;36m<cell line: 27>\u001b[0;34m()\u001b[0m\n\u001b[1;32m     31\u001b[0m \u001b[0;34m\u001b[0m\u001b[0m\n\u001b[1;32m     32\u001b[0m \u001b[0;34m\u001b[0m\u001b[0m\n\u001b[0;32m---> 33\u001b[0;31m     \u001b[0mprata\u001b[0m \u001b[0;34m=\u001b[0m \u001b[0mint\u001b[0m\u001b[0;34m(\u001b[0m\u001b[0minput\u001b[0m\u001b[0;34m(\u001b[0m\u001b[0;34mf\"Digite o pais para {medalhas}: \"\u001b[0m\u001b[0;34m)\u001b[0m\u001b[0;34m)\u001b[0m\u001b[0;34m\u001b[0m\u001b[0;34m\u001b[0m\u001b[0m\n\u001b[0m\u001b[1;32m     34\u001b[0m \u001b[0;34m\u001b[0m\u001b[0m\n\u001b[1;32m     35\u001b[0m \u001b[0;34m\u001b[0m\u001b[0m\n",
            "\u001b[0;31mValueError\u001b[0m: invalid literal for int() with base 10: 'sair'"
          ]
        }
      ],
      "source": [
        "medalhas = {\n",
        "    'Brasil': {'ouro': 4, 'prata': 2, 'bronze': 1},\n",
        "    'França': {'ouro': 2, 'prata': 1, 'bronze': 3},\n",
        "    'Argentina': {'ouro': 1, 'prata': 1, 'bronze': 1}\n",
        "}\n",
        "\n",
        "\n",
        "def calcular_total_medalhas(medalhas):\n",
        "    total = {}\n",
        "    for pais, medalhas_tipo in medalhas.items():\n",
        "        total_medalhas = medalhas_tipo['ouro'] + medalhas_tipo['prata'] + medalhas_tipo['bronze']\n",
        "        total[pais] = total_medalhas\n",
        "    return total\n",
        "\n",
        "def exibir_ranking(medalhas):\n",
        "\n",
        "    total_medalhas = calcular_total_medalhas(medalhas)\n",
        "\n",
        "    ranking = sorted(medalhas.items(), key=lambda x: (x[1]['ouro'], x[1]['prata'], x[1]['bronze']), reverse=True)\n",
        "\n",
        "\n",
        "    print(\"\\nRanking de Medalhas:\")\n",
        "    for i, (pais, medalhas_tipo) in enumerate(ranking, start=1):\n",
        "        print(f\"{i}. {pais} - Ouro: {medalhas_tipo['ouro']}, Prata: {medalhas_tipo['prata']}, Bronze: {medalhas_tipo['bronze']}, Total: {total_medalhas[pais]}\")\n",
        "    print(\"-\" * 20)\n",
        "\n",
        "while True:\n",
        "    pais = input(\"Digite o nome do país (ou 'sair' para terminar): \").strip()\n",
        "    if pais.lower() == 'sair':\n",
        "        break\n",
        "\n",
        "\n",
        "    prata = int(input(f\"Digite o pais para {medalhas}: \"))\n",
        "\n",
        "\n",
        "    medalhas[brasil] = {'3': ouro, '2': prata, '1': bronze}\n",
        "\n",
        "exibir_ranking(medalhas)"
      ]
    }
  ]
}